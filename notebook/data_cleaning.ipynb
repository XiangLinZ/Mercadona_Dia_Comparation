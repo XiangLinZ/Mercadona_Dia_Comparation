{
 "cells": [
  {
   "cell_type": "code",
   "execution_count": 1,
   "metadata": {},
   "outputs": [
    {
     "name": "stderr",
     "output_type": "stream",
     "text": [
      "c:\\Users\\Lin\\anaconda3\\lib\\site-packages\\fuzzywuzzy\\fuzz.py:11: UserWarning: Using slow pure-python SequenceMatcher. Install python-Levenshtein to remove this warning\n",
      "  warnings.warn('Using slow pure-python SequenceMatcher. Install python-Levenshtein to remove this warning')\n"
     ]
    }
   ],
   "source": [
    "import pandas as pd\n",
    "import numpy as np\n",
    "from datetime import date\n",
    "import sys\n",
    "sys.path.append(\"../\")\n",
    "import src.soporte as sp\n",
    "import warnings\n",
    "warnings.filterwarnings(\"ignore\")"
   ]
  },
  {
   "cell_type": "code",
   "execution_count": 2,
   "metadata": {},
   "outputs": [],
   "source": [
    "# Loading my scraped data\n",
    "dia_18 = pd.read_csv(\"../data/dia_2023-01-18.csv\", index_col = 0)\n",
    "dia_19 = pd.read_csv(\"../data/dia_2023-01-19.csv\", index_col = 0)\n",
    "dia_20 = pd.read_csv(\"../data/dia_2023-01-20.csv\", index_col = 0)\n",
    "dia_30 = pd.read_csv(\"../data/dia_2023-01-30.csv\", index_col = 0)\n",
    "dia_02 = pd.read_csv(\"../data/dia_2023-02-04.csv\", index_col = 0)\n",
    "mercadona_20 = pd.read_csv(\"../data/merc2023-01-20_suma.csv\", index_col = 0)"
   ]
  },
  {
   "cell_type": "code",
   "execution_count": 3,
   "metadata": {},
   "outputs": [],
   "source": [
    "# Loading my data\n",
    "mercadona = pd.read_csv(\"../data/mercadona_limpio.csv\", index_col = 0)\n",
    "dia = pd.read_csv(\"../data/dia_limpio.csv\", index_col = 0)"
   ]
  },
  {
   "cell_type": "code",
   "execution_count": 4,
   "metadata": {},
   "outputs": [],
   "source": [
    "# Changin names and dropping the old category\n",
    "mercadona.drop([\"category\"], axis = 1, inplace = True)\n",
    "mercadona.rename(columns = {\"categoria\": \"category\"}, inplace = True)"
   ]
  },
  {
   "cell_type": "code",
   "execution_count": 5,
   "metadata": {},
   "outputs": [],
   "source": [
    "# Making small ajustment\n",
    "mercadona_20.drop([\"Unnamed: 0.1\", \"Unnamed: 0\", \"category_id\"],axis= 1, inplace = True) # Droping some error from the pass\n",
    "mercadona_20.drop_duplicates(inplace = True) # Droping useless info\n",
    "mercadona_20[\"subcategoria\"] = mercadona_20.apply(lambda x: sp.mer_subcat(x[\"category\"]), axis = 1) # Making the subcategory\n",
    "mercadona_20[\"category\"] = mercadona_20.apply(lambda x: sp.category(x[\"subcategoria\"]), axis = 1) # Making the category\n",
    "mercadona_20[\"supermarket\"] = \"mercadona-es\" # Adding the \"supermarket\" field"
   ]
  },
  {
   "cell_type": "code",
   "execution_count": 6,
   "metadata": {},
   "outputs": [],
   "source": [
    "# Droping Nulls and adding the field \"supermarket\" to my scraped data\n",
    "dia_18.dropna(inplace= True)\n",
    "dia_18[\"supermarket\"] = \"dia-es\"\n",
    "dia_19.dropna(inplace= True)\n",
    "dia_19[\"supermarket\"] = \"dia-es\"\n",
    "dia_20.dropna(inplace= True)\n",
    "dia_20[\"supermarket\"] = \"dia-es\"\n",
    "dia_30.dropna(inplace= True)\n",
    "dia_30[\"supermarket\"] = \"dia-es\"\n",
    "dia_02.dropna(inplace= True)\n",
    "dia_02[\"supermarket\"] = \"dia-es\""
   ]
  },
  {
   "cell_type": "code",
   "execution_count": 7,
   "metadata": {},
   "outputs": [],
   "source": [
    "# Here I'm grouping all my data\n",
    "mercadona_total = pd.concat([mercadona, mercadona_20], axis = 0, ignore_index = True)\n",
    "dia_sumando = pd.concat([dia, dia_18], axis = 0, ignore_index = True)\n",
    "dia_sumando = pd.concat([dia_sumando, dia_19], axis = 0, ignore_index = True)\n",
    "dia_sumando = pd.concat([dia_sumando, dia_20], axis = 0, ignore_index = True)\n",
    "dia_sumando = pd.concat([dia_sumando, dia_30], axis = 0, ignore_index = True)\n",
    "dia_total = pd.concat([dia_sumando, dia_02], axis = 0, ignore_index = True)\n",
    "dia_mercadona_total = pd.concat([mercadona_total, dia_total], axis = 0, ignore_index = True)"
   ]
  },
  {
   "cell_type": "code",
   "execution_count": 8,
   "metadata": {},
   "outputs": [],
   "source": [
    "# Saving it for later usage\n",
    "today = date.today()\n",
    "dia_mercadona_total.to_csv(f\"../data/dia_merc_todo{today}.csv\")"
   ]
  },
  {
   "cell_type": "code",
   "execution_count": 9,
   "metadata": {},
   "outputs": [],
   "source": [
    "# Spliting my data\n",
    "dia_todo = dia_mercadona_total[dia_mercadona_total[\"supermarket\"] == \"dia-es\"]\n",
    "mercadona_todo = dia_mercadona_total[dia_mercadona_total[\"supermarket\"] == \"mercadona-es\"]\n",
    "mercadona_todo.head(2)"
   ]
  },
  {
   "cell_type": "code",
   "execution_count": 10,
   "metadata": {},
   "outputs": [],
   "source": [
    "# Filtering so I have the info of the categories that I'm interested in\n",
    "dia_filtrado = dia_todo[dia_todo[\"category\"].isin([\"carniceria\", \"pescaderia\", \"verduleria\"])]\n",
    "mercadona_filtrado = mercadona_todo[mercadona_todo[\"category\"].isin([\"carniceria\", \"pescaderia\", \"verduleria\"])]\n",
    "mercadona_filtrado.head(2)"
   ]
  },
  {
   "cell_type": "code",
   "execution_count": 11,
   "metadata": {},
   "outputs": [],
   "source": [
    "# Chaging the dtype to datetime\n",
    "dia_filtrado[\"insert_date\"] = pd.to_datetime(dia_filtrado[\"insert_date\"])\n",
    "mercadona_filtrado[\"insert_date\"] = pd.to_datetime(mercadona_filtrado[\"insert_date\"])\n",
    "mercadona_filtrado.head(2)"
   ]
  },
  {
   "cell_type": "code",
   "execution_count": 12,
   "metadata": {},
   "outputs": [],
   "source": [
    "# Droping the day, so I have the info by Year and Moth\n",
    "dia_filtrado[\"insert_date\"] = dia_filtrado[\"insert_date\"].dt.strftime(\"%Y-%m\")\n",
    "mercadona_filtrado[\"insert_date\"] = mercadona_filtrado[\"insert_date\"].dt.strftime(\"%Y-%m\")\n",
    "mercadona_filtrado.head(2)"
   ]
  },
  {
   "cell_type": "code",
   "execution_count": 13,
   "metadata": {},
   "outputs": [],
   "source": [
    "# Grouping bu date and name, and making the mean of the prices\n",
    "dia_agrupado = dia_filtrado.groupby([\"insert_date\", \"name\"]).agg([np.mean]).reset_index()\n",
    "merc_agrupado = mercadona_filtrado.groupby([\"insert_date\", \"name\"]).agg([np.mean]).reset_index()\n",
    "merc_agrupado.head(2)"
   ]
  },
  {
   "cell_type": "code",
   "execution_count": 14,
   "metadata": {},
   "outputs": [],
   "source": [
    "# Changing the name of the columns\n",
    "dia_agrupado.columns = \"insert_date\", \"name\", \"avg_price\", \"avg_reference_price\"\n",
    "merc_agrupado.columns = \"insert_date\", \"name\", \"avg_price\", \"avg_reference_price\"\n",
    "merc_agrupado.head(2)"
   ]
  },
  {
   "cell_type": "code",
   "execution_count": 15,
   "metadata": {},
   "outputs": [],
   "source": [
    "# Droping the columns of the old data, so I can recover the info of the categories and the subcategories\n",
    "dia_nombres = dia_filtrado.drop([\"insert_date\", \"price\", \"reference_price\"], axis =1)\n",
    "mer_nombres = mercadona_filtrado.drop([\"insert_date\", \"price\", \"reference_price\"], axis =1)\n",
    "mer_nombres.head(2)"
   ]
  },
  {
   "cell_type": "code",
   "execution_count": 16,
   "metadata": {},
   "outputs": [],
   "source": [
    "# Droping duplicates, so there is only one row with the info that I need\n",
    "dia_nombres = dia_nombres.drop_duplicates(subset='name', keep=\"first\")\n",
    "mer_nombres = mer_nombres.drop_duplicates(subset='name', keep=\"first\")\n",
    "mer_nombres.head(2)"
   ]
  },
  {
   "cell_type": "code",
   "execution_count": 21,
   "metadata": {},
   "outputs": [],
   "source": [
    "# Merging my info so I have all the info that I need\n",
    "dia_bien = dia_agrupado.merge(dia_nombres, how = \"left\", on = \"name\")\n",
    "mer_bien = merc_agrupado.merge(mer_nombres, how = \"left\", on = \"name\")\n",
    "mer_bien.head(2)"
   ]
  },
  {
   "cell_type": "code",
   "execution_count": 24,
   "metadata": {},
   "outputs": [],
   "source": [
    "# Joining the info into one dataframe\n",
    "mer_dia_bien = pd.concat([dia_bien, mer_bien], axis = 0, join = \"outer\", ignore_index = True)\n",
    "mer_dia_bien.head(2)"
   ]
  },
  {
   "cell_type": "code",
   "execution_count": 25,
   "metadata": {},
   "outputs": [],
   "source": [
    "# Saving everything to use it\n",
    "today = date.today()\n",
    "mer_dia_bien.to_csv(f\"../data/dia_merc_bien{today}.csv\")"
   ]
  }
 ],
 "metadata": {
  "kernelspec": {
   "display_name": "base",
   "language": "python",
   "name": "python3"
  },
  "language_info": {
   "codemirror_mode": {
    "name": "ipython",
    "version": 3
   },
   "file_extension": ".py",
   "mimetype": "text/x-python",
   "name": "python",
   "nbconvert_exporter": "python",
   "pygments_lexer": "ipython3",
   "version": "3.9.12"
  },
  "orig_nbformat": 4,
  "vscode": {
   "interpreter": {
    "hash": "c0fe1027508b216a896019249be6f800db5587dd8e29811ed6b75b25cd3ed733"
   }
  }
 },
 "nbformat": 4,
 "nbformat_minor": 2
}
